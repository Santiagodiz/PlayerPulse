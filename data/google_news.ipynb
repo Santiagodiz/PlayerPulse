{
 "cells": [
  {
   "cell_type": "code",
   "execution_count": 1,
   "metadata": {},
   "outputs": [],
   "source": [
    "import requests\n",
    "import json\n",
    "from bs4 import BeautifulSoup\n",
    "from urllib.parse import urljoin, quote\n",
    "from lxml import etree\n",
    "import selenium\n",
    "from selenium import webdriver\n",
    "from selenium.webdriver.support.ui import WebDriverWait\n",
    "import time\n",
    "from selenium.webdriver.support import expected_conditions as EC\n",
    "from selenium.webdriver.common.by import By\n",
    "import datetime\n",
    "#from selenium.webdriver.edge.options import Options\n",
    "from selenium.webdriver.chrome.options import Options\n",
    "\n",
    "import pandas as pd"
   ]
  },
  {
   "cell_type": "code",
   "execution_count": 2,
   "metadata": {},
   "outputs": [],
   "source": [
    "def generate_urls(jugador, anio_inicio, mes_inicio, dia_inicio, anio_fin, mes_fin, dia_fin):\n",
    "    # referencia https://news.google.com/search?q=nombre_jugador+de_futbol+after:YYYY-MM-DD+before:YYYY-MM-DD\n",
    "    \n",
    "    interval_tuples = []\n",
    "    \n",
    "    # se hacen intervalos de 1 semana\n",
    "    while True:\n",
    "        if anio_inicio == anio_fin and mes_inicio == mes_fin and dia_inicio >= dia_fin:\n",
    "            break\n",
    "\n",
    "        if anio_inicio == anio_fin and mes_inicio > mes_fin and dia_inicio:\n",
    "            break\n",
    "\n",
    "        if anio_inicio > anio_fin:\n",
    "            break\n",
    "        \n",
    "        interval_tuples.append((anio_inicio, mes_inicio, dia_inicio))\n",
    "        \n",
    "        dia_inicio += 7\n",
    "        \n",
    "        if dia_inicio > 30:\n",
    "            dia_inicio = 1\n",
    "            mes_inicio += 1\n",
    "        \n",
    "        if mes_inicio > 12:\n",
    "            mes_inicio = 1\n",
    "            anio_inicio += 1\n",
    "\n",
    "    print(interval_tuples)\n",
    "\n",
    "    urls = []\n",
    "\n",
    "    for interval in interval_tuples:\n",
    "        anio, mes, dia = interval\n",
    "\n",
    "        url = f\"https://news.google.com/search?q={jugador.replace(' ', '%20')}+after:{anio}-{mes}-{dia}+before:{anio}-{mes}-{dia + 7}\"\n",
    "        urls.append(url)\n",
    "\n",
    "\n",
    "    return urls\n"
   ]
  },
  {
   "cell_type": "code",
   "execution_count": 3,
   "metadata": {},
   "outputs": [],
   "source": [
    "def get_news_links(url):\n",
    "    edge_options = Options()\n",
    "    edge_options.add_argument('--headless')\n",
    "    edge_options.add_argument('--disable-gpu')\n",
    "    edge_options.add_argument('--no-sandbox') \n",
    "    \n",
    "    driver = webdriver.Edge(options=edge_options)\n",
    "    driver.get(url)\n",
    "\n",
    "    # Espera a que el botón de 'Accept all' esté presente y clicable\n",
    "    wait = WebDriverWait(driver, 10)  # Espera hasta 10 segundos\n",
    "    accept_button = wait.until(EC.element_to_be_clickable((By.XPATH, \"//span[text()='Aceptar todo']\")))\n",
    "\n",
    "    # Hace clic en el elemento <span>\n",
    "    accept_button.click()\n",
    "\n",
    "    # Esperar a que la nueva página comience a cargarse o hacer algo en el medio si es necesario\n",
    "    time.sleep(2)  # Pausa opcional para dar tiempo a la carga inicial de la página\n",
    "\n",
    "    # Scroll hacia abajo hasta el final de la página\n",
    "    last_height = driver.execute_script(\"return document.body.scrollHeight\")\n",
    "\n",
    "    while True:\n",
    "            # Desplazarse hacia abajo\n",
    "            driver.execute_script(\"window.scrollTo(0, document.body.scrollHeight);\")\n",
    "            \n",
    "            # Esperar a que se cargue la nueva sección\n",
    "            time.sleep(2)  # Ajusta el tiempo según sea necesario para la página\n",
    "            \n",
    "            # Calcular la nueva altura de la página después del scroll\n",
    "            new_height = driver.execute_script(\"return document.body.scrollHeight\")\n",
    "            \n",
    "            # Si la altura no cambia, hemos llegado al final de la página\n",
    "            if new_height == last_height:\n",
    "                break\n",
    "            \n",
    "            last_height = new_height\n",
    "\n",
    "    elements = driver.find_elements(By.CSS_SELECTOR, 'c-wiz[jsrenderer=\"ARwRbe\"]')\n",
    "\n",
    "    # Extraer los href de cada elemento si tienen un enlace dentro\n",
    "    links = []\n",
    "    for element in elements:\n",
    "        # Buscar el enlace dentro del elemento\n",
    "        link = element.find_element(By.TAG_NAME, 'a')\n",
    "        href = link.get_attribute('href')\n",
    "        if href:\n",
    "            links.append(href)\n",
    "\n",
    "\n",
    "\n",
    "\n",
    "\n",
    "    # Encontrar todos los elementos <time> con class=\"hvbAAd\"\n",
    "    time_elements = driver.find_elements(By.CSS_SELECTOR, 'time.hvbAAd')\n",
    "\n",
    "    # Extraer el valor del atributo 'datetime' de cada <time>\n",
    "    datetimes = []\n",
    "    for element in time_elements:\n",
    "        datetime_value = element.get_attribute('datetime')\n",
    "        if datetime_value:\n",
    "            datetimes.append(datetime_value)\n",
    "\n",
    "\n",
    "\n",
    "\n",
    "\n",
    "\n",
    "\n",
    "    driver.quit()\n",
    "\n",
    "    return links[1:], datetimes\n",
    "\n",
    "\n",
    "\n"
   ]
  },
  {
   "cell_type": "code",
   "execution_count": 4,
   "metadata": {},
   "outputs": [],
   "source": [
    "def get_news_parragraphs(url):\n",
    "    edge_options = Options()\n",
    "    # edge_options.add_argument('--headless')\n",
    "\n",
    "    driver = webdriver.Edge(options=edge_options)\n",
    "    driver.get(url)\n",
    "\n",
    "\n",
    "    try:\n",
    "        # Espera a que el botón de 'Accept all' esté presente y clicable\n",
    "        wait = WebDriverWait(driver, 10)  # Espera hasta 10 segundos\n",
    "        #accept_button = wait.until(EC.element_to_be_clickable((By.XPATH, \"//span[text()='Accept all']\")))\n",
    "        accept_button = wait.until(EC.element_to_be_clickable(\n",
    "                    (By.XPATH, \"//span[contains(text(), 'Accept all') or contains(text(), 'Aceptar todo')]\")\n",
    "                                                                ))\n",
    "        \n",
    "        # Hace clic en el elemento <span>\n",
    "        accept_button.click()\n",
    "\n",
    "        # Esperar a que la nueva página comience a cargarse o hacer algo en el medio si es necesario\n",
    "        time.sleep(2)  # Pausa opcional para dar tiempo a la carga inicial de la página\n",
    "\n",
    "        # Scroll hacia abajo hasta el final de la página\n",
    "        last_height = driver.execute_script(\"return document.body.scrollHeight\")\n",
    "        \n",
    "        movements = 0\n",
    "\n",
    "        while True:\n",
    "            # Desplazarse hacia abajo\n",
    "            driver.execute_script(\"window.scrollTo(0, document.body.scrollHeight);\")\n",
    "            \n",
    "            # Esperar a que se cargue la nueva sección\n",
    "            time.sleep(2)  # Ajusta el tiempo según sea necesario para la página\n",
    "            \n",
    "            # Calcular la nueva altura de la página después del scroll\n",
    "            new_height = driver.execute_script(\"return document.body.scrollHeight\")\n",
    "            \n",
    "            # Si la altura no cambia, hemos llegado al final de la página\n",
    "            if new_height == last_height:\n",
    "                break\n",
    "            \n",
    "            last_height = new_height\n",
    "\n",
    "            movements += 1\n",
    "            if movements == 4:\n",
    "                break\n",
    "        \n",
    "        # Una vez que se ha llegado al final, obtener todos los párrafos <p>\n",
    "        paragraphs = driver.find_elements(By.TAG_NAME, 'p')\n",
    "        \n",
    "        # Imprimir el texto de cada párrafo\n",
    "        for paragraph in paragraphs:\n",
    "            return paragraph.text\n",
    "\n",
    "        \n",
    "    except Exception as e:\n",
    "        print(f\"Error: {e}\")\n",
    "    finally:\n",
    "        driver.quit()\n"
   ]
  },
  {
   "cell_type": "code",
   "execution_count": null,
   "metadata": {},
   "outputs": [],
   "source": [
    "root_urls = generate_urls(\"Vinicius Jr\", 2022, 1, 1, 2022, 6, 1)\n",
    "\n",
    "news_links_list = []\n",
    "news_datetimes_list = []\n",
    "\n",
    "for url in root_urls:\n",
    "    news_links, news_datetimes = get_news_links(url)\n",
    "    news_links_list.extend(news_links)\n",
    "    news_datetimes_list.extend(news_datetimes)\n",
    "\n",
    "list_paragraphs = []\n",
    "\n",
    "for news_links in news_links_list:\n",
    "    paragraph = get_news_parragraphs(news_links)\n",
    "    list_paragraphs.append(paragraph)"
   ]
  },
  {
   "cell_type": "code",
   "execution_count": 5,
   "metadata": {},
   "outputs": [],
   "source": [
    "# leer el archivo csv yendo una carpeta atrás\n",
    "df = pd.read_csv('raw/news_links.csv')\n",
    "\n",
    "# crear una columna que marque si se ha scrapeado o no\n",
    "df['scraped'] = 0"
   ]
  },
  {
   "cell_type": "code",
   "execution_count": 41,
   "metadata": {},
   "outputs": [
    {
     "data": {
      "text/plain": [
       "'No es una broma y todo tiene un estudio científico y de mercado por detrás. De acuerdo al CIES Football Observatory, medio especializado en valores y fluctuaciones de costos dentro del futbol, Vinicius Junior es el futbolista con mayor valor de mercado del mundo con una suma de 188 millones de dólares, pero lo increíble es que Kylian Mbappé es el número 50 con un monto de 81 millones.'"
      ]
     },
     "execution_count": 41,
     "metadata": {},
     "output_type": "execute_result"
    }
   ],
   "source": [
    "# get the first url\n",
    "url = df['links'][11]\n",
    "\n",
    "# get the paragraphs\n",
    "paragraph = get_news_parragraphs(url)\n",
    "\n",
    "paragraph"
   ]
  },
  {
   "cell_type": "code",
   "execution_count": null,
   "metadata": {},
   "outputs": [],
   "source": [
    "url = df['links'][10]\n",
    "\n",
    "\n",
    "driver = webdriver.Edge()\n",
    "\n",
    "\n",
    "driver.get(url)\n",
    "\n",
    "\n",
    "\n",
    "\n",
    "\n",
    "# Espera a que el botón de 'Accept all' esté presente y clicable\n",
    "wait = WebDriverWait(driver, 10)  # Espera hasta 10 segundos\n",
    "#accept_button = wait.until(EC.element_to_be_clickable((By.XPATH, \"//span[text()='Accept all']\")))\n",
    "accept_button = wait.until(EC.element_to_be_clickable(\n",
    "                    (By.XPATH, \"//span[contains(text(), 'Accept all') or contains(text(), 'Aceptar todo')]\")\n",
    "                                                                ))\n",
    "\n",
    "accept_button.click()\n",
    "\n",
    "wait = WebDriverWait(driver, 10)\n",
    "\n",
    "# consent_button = wait.until(EC.element_to_be_clickable(\n",
    "#     (By.XPATH, \"//button[@aria-label='Consentir']\")\n",
    "# ))\n",
    "\n",
    "# consent_button.click()\n",
    "\n",
    "\n",
    "accept_button_or_link = wait.until(EC.element_to_be_clickable(\n",
    "    (By.XPATH, \"//button[contains(translate(text(), 'ABCDEFGHIJKLMNOPQRSTUVWXYZ', 'abcdefghijklmnopqrstuvwxyz'), 'aceptar')] | //a[contains(translate(text(), 'ABCDEFGHIJKLMNOPQRSTUVWXYZ', 'abcdefghijklmnopqrstuvwxyz'), 'aceptar')] | //span[contains(translate(text(), 'ABCDEFGHIJKLMNOPQRSTUVWXYZ', 'abcdefghijklmnopqrstuvwxyz'), 'aceptar')]\")\n",
    "))\n",
    "\n",
    "accept_button_or_link.click()\n"
   ]
  },
  {
   "cell_type": "code",
   "execution_count": 49,
   "metadata": {},
   "outputs": [
    {
     "name": "stderr",
     "output_type": "stream",
     "text": [
      "2024-10-02 16:42:21,926 - root - ERROR - get_decoding_params Request error: 429 Client Error: Too Many Requests for url: https://www.google.com/sorry/index?continue=https://news.google.com/articles/CBMi0gFBVV95cUxOR2cydm54bjBZNUZoNVFkSXBIYlBBNjMzdW1ici1xMHB0ZjExakhJY25PLXpCSGlDYUw0NHVVZDl0NUY5aWJ0OFVzSEZDTVdBaU1HNVIzOG96TlR2ZUFBYUE0RnRlNy1ZSW1McHo5SFhFQS1CLUpGTkdzNmZCN29IV0JvS2NFT1p4NlJsQkhLZzA1Y1hSZk9IM3lRYTFGQjlFRXhHN1Ntc2dJWERYclBkNVRJYnhOYW1rR2xSa3ozWWNIaGk3WTB6aEhEeTI5UEowNGfSAdoBQVVfeXFMT0hud2JFTVdKeGhpOE0xbGNGVzN0Z2pCbFE1RFFuTFctUDJnM0JTWHk4cUxBaEw1TFdUS0ZNN3hFbURVa0pHZk12SUUzWHVrWHd0d3pUT3EtbmpTYmRrNE40dHgtQ3NGeHNGMUc1aE1sVHRqcm9qdVlqV0c5MkVtcWJXSWczVmkyby1sZEZEZlgwS3pkQUp4eS1JRXlnVE1tSlZBOXNQXy1wNGI3MWVOcmJjQVBUSERHa1RuYXBWZUhNVDkteXE5bmtpMEw0NVFicDZMOEQ5VEg2eFE&q=EgSKBOsAGMy39bcGIjCvtCYkHs6tGluKXqvcCdaAkOExxUgr3YbCKq8jduMGDW7dTwZ47FkUyJ53QHzCMT0yAXJaAUM\n"
     ]
    },
    {
     "name": "stdout",
     "output_type": "stream",
     "text": [
      "Error: Request error in get_decoding_params: 429 Client Error: Too Many Requests for url: https://www.google.com/sorry/index?continue=https://news.google.com/articles/CBMi0gFBVV95cUxOR2cydm54bjBZNUZoNVFkSXBIYlBBNjMzdW1ici1xMHB0ZjExakhJY25PLXpCSGlDYUw0NHVVZDl0NUY5aWJ0OFVzSEZDTVdBaU1HNVIzOG96TlR2ZUFBYUE0RnRlNy1ZSW1McHo5SFhFQS1CLUpGTkdzNmZCN29IV0JvS2NFT1p4NlJsQkhLZzA1Y1hSZk9IM3lRYTFGQjlFRXhHN1Ntc2dJWERYclBkNVRJYnhOYW1rR2xSa3ozWWNIaGk3WTB6aEhEeTI5UEowNGfSAdoBQVVfeXFMT0hud2JFTVdKeGhpOE0xbGNGVzN0Z2pCbFE1RFFuTFctUDJnM0JTWHk4cUxBaEw1TFdUS0ZNN3hFbURVa0pHZk12SUUzWHVrWHd0d3pUT3EtbmpTYmRrNE40dHgtQ3NGeHNGMUc1aE1sVHRqcm9qdVlqV0c5MkVtcWJXSWczVmkyby1sZEZEZlgwS3pkQUp4eS1JRXlnVE1tSlZBOXNQXy1wNGI3MWVOcmJjQVBUSERHa1RuYXBWZUhNVDkteXE5bmtpMEw0NVFicDZMOEQ5VEg2eFE&q=EgSKBOsAGMy39bcGIjCvtCYkHs6tGluKXqvcCdaAkOExxUgr3YbCKq8jduMGDW7dTwZ47FkUyJ53QHzCMT0yAXJaAUM\n",
      "[]\n"
     ]
    }
   ],
   "source": [
    "from googlenewsdecoder import new_decoderv1\n",
    "\n",
    "def main():\n",
    "    decoded_urls = []\n",
    "\n",
    "    interval_time = 5 # default interval is 1 sec, if not specified\n",
    "\n",
    "    for source_url in df['links'][30:]:\n",
    "\n",
    "        try:\n",
    "            decoded_url = new_decoderv1(source_url, interval=interval_time)\n",
    "            if decoded_url.get(\"status\"):\n",
    "                print(\"Decoded URL:\", decoded_url[\"decoded_url\"])\n",
    "                decoded_urls.append(decoded_url[\"decoded_url\"])\n",
    "            else:\n",
    "                print(\"Error:\", decoded_url[\"message\"])\n",
    "                return decoded_urls\n",
    "        except Exception as e:\n",
    "            print(f\"Error occurred: {e}\")\n",
    "            return decoded_urls\n",
    "\n",
    "    return decoded_urls\n",
    "\n",
    "\n",
    "if __name__ == \"__main__\":\n",
    "    urls = main()\n",
    "    print(urls)"
   ]
  },
  {
   "cell_type": "markdown",
   "metadata": {},
   "source": [
    "# Vamos a hacerlo mas sencillo \n",
    "Google ya que no nos deja recoger la noticia entera, ya que detecta que estamos usando un bot.\n",
    "Vamos a recoger el resumen de las noticias."
   ]
  },
  {
   "cell_type": "code",
   "execution_count": 50,
   "metadata": {},
   "outputs": [],
   "source": [
    "from gnews import GNews"
   ]
  },
  {
   "cell_type": "code",
   "execution_count": 126,
   "metadata": {},
   "outputs": [],
   "source": [
    "def create_dates_intervals(start_year, start_month, start_day, end_year, end_month, end_day):\n",
    "    dates = []\n",
    "    while True:\n",
    "        if start_year == end_year and start_month == end_month and start_day > end_day:\n",
    "            break\n",
    "\n",
    "        if start_year == end_year and start_month > end_month:\n",
    "            break\n",
    "\n",
    "        if start_year > end_year:\n",
    "            break\n",
    "\n",
    "        dates.append((start_year, start_month, start_day))\n",
    "\n",
    "        start_day += 7\n",
    "\n",
    "        if start_day > 30:\n",
    "            start_day = 1\n",
    "            start_month += 1\n",
    "\n",
    "        if start_month > 12:\n",
    "            start_month = 1\n",
    "            start_year += 1\n",
    "\n",
    "    return dates\n",
    "\n",
    "\n",
    "def convert_dates(date_str):\n",
    "    months_dic = {\n",
    "    'Jan': 1,\n",
    "    'Feb': 2,\n",
    "    'Mar': 3,\n",
    "    'Apr': 4,\n",
    "    'May': 5,\n",
    "    'Jun': 6,\n",
    "    'Jul': 7,\n",
    "    'Aug': 8,\n",
    "    'Sep': 9,\n",
    "    'Oct': 10,\n",
    "    'Nov': 11,\n",
    "    'Dec': 12\n",
    "}\n",
    "\n",
    "\n",
    "    day = int(date_str[5:7])\n",
    "    month = months_dic[date_str[8:11]]\n",
    "    year = int(date_str[12:16])\n",
    "\n",
    "    return day, month, year"
   ]
  },
  {
   "cell_type": "code",
   "execution_count": 127,
   "metadata": {},
   "outputs": [
    {
     "name": "stdout",
     "output_type": "stream",
     "text": [
      "[(2023, 8, 1), (2023, 8, 8), (2023, 8, 15), (2023, 8, 22), (2023, 8, 29), (2023, 9, 1), (2023, 9, 8), (2023, 9, 15), (2023, 9, 22), (2023, 9, 29), (2023, 10, 1), (2023, 10, 8), (2023, 10, 15), (2023, 10, 22), (2023, 10, 29), (2023, 11, 1), (2023, 11, 8), (2023, 11, 15), (2023, 11, 22), (2023, 11, 29), (2023, 12, 1), (2023, 12, 8), (2023, 12, 15), (2023, 12, 22), (2023, 12, 29), (2024, 1, 1), (2024, 1, 8), (2024, 1, 15), (2024, 1, 22), (2024, 1, 29), (2024, 2, 1), (2024, 2, 8), (2024, 2, 15), (2024, 2, 22), (2024, 2, 29), (2024, 3, 1), (2024, 3, 8), (2024, 3, 15), (2024, 3, 22), (2024, 3, 29), (2024, 4, 1), (2024, 4, 8), (2024, 4, 15), (2024, 4, 22), (2024, 4, 29), (2024, 5, 1), (2024, 5, 8), (2024, 5, 15), (2024, 5, 22)]\n",
      "(2023, 8, 1) (2023, 8, 8)\n",
      "(2023, 8, 8) (2023, 8, 15)\n"
     ]
    },
    {
     "name": "stderr",
     "output_type": "stream",
     "text": [
      "c:\\Users\\santi\\AppData\\Local\\Programs\\Python\\Python311\\Lib\\site-packages\\gnews\\gnews.py:130: UserWarning: The start and end dates should be at least 1 day apart, or GNews will return no results\n",
      "  warnings.warn(\"The start and end dates should be at least 1 day apart, or GNews will return no results\")\n"
     ]
    },
    {
     "name": "stdout",
     "output_type": "stream",
     "text": [
      "(2023, 8, 15) (2023, 8, 22)\n",
      "(2023, 8, 22) (2023, 8, 29)\n",
      "(2023, 8, 29) (2023, 9, 1)\n",
      "(2023, 9, 1) (2023, 9, 8)\n",
      "(2023, 9, 8) (2023, 9, 15)\n",
      "(2023, 9, 15) (2023, 9, 22)\n",
      "(2023, 9, 22) (2023, 9, 29)\n",
      "(2023, 9, 29) (2023, 10, 1)\n",
      "(2023, 10, 1) (2023, 10, 8)\n",
      "(2023, 10, 8) (2023, 10, 15)\n",
      "(2023, 10, 15) (2023, 10, 22)\n",
      "(2023, 10, 22) (2023, 10, 29)\n",
      "(2023, 10, 29) (2023, 11, 1)\n",
      "(2023, 11, 1) (2023, 11, 8)\n",
      "(2023, 11, 8) (2023, 11, 15)\n",
      "(2023, 11, 15) (2023, 11, 22)\n",
      "(2023, 11, 22) (2023, 11, 29)\n",
      "(2023, 11, 29) (2023, 12, 1)\n",
      "(2023, 12, 1) (2023, 12, 8)\n",
      "(2023, 12, 8) (2023, 12, 15)\n",
      "(2023, 12, 15) (2023, 12, 22)\n",
      "(2023, 12, 22) (2023, 12, 29)\n",
      "(2023, 12, 29) (2024, 1, 1)\n",
      "(2024, 1, 1) (2024, 1, 8)\n",
      "(2024, 1, 8) (2024, 1, 15)\n",
      "(2024, 1, 15) (2024, 1, 22)\n",
      "(2024, 1, 22) (2024, 1, 29)\n",
      "(2024, 1, 29) (2024, 2, 1)\n",
      "(2024, 2, 1) (2024, 2, 8)\n",
      "(2024, 2, 8) (2024, 2, 15)\n",
      "(2024, 2, 15) (2024, 2, 22)\n",
      "(2024, 2, 22) (2024, 2, 29)\n",
      "(2024, 2, 29) (2024, 3, 1)\n",
      "(2024, 3, 1) (2024, 3, 8)\n",
      "(2024, 3, 8) (2024, 3, 15)\n",
      "(2024, 3, 15) (2024, 3, 22)\n",
      "(2024, 3, 22) (2024, 3, 29)\n",
      "(2024, 3, 29) (2024, 4, 1)\n",
      "(2024, 4, 1) (2024, 4, 8)\n",
      "(2024, 4, 8) (2024, 4, 15)\n",
      "(2024, 4, 15) (2024, 4, 22)\n",
      "(2024, 4, 22) (2024, 4, 29)\n",
      "(2024, 4, 29) (2024, 5, 1)\n",
      "(2024, 5, 1) (2024, 5, 8)\n",
      "(2024, 5, 8) (2024, 5, 15)\n",
      "(2024, 5, 15) (2024, 5, 22)\n"
     ]
    }
   ],
   "source": [
    "dates = create_dates_intervals(2023, 8, 1, 2024, 5, 26)\n",
    "print(dates)\n",
    "\n",
    "\n",
    "l_news = []\n",
    "\n",
    "google_news = GNews()\n",
    "\n",
    "\n",
    "for date in range(len(dates)-1):\n",
    "\n",
    "    google_news.max_results = 15\n",
    "\n",
    "    print(dates[date], dates[date + 1])\n",
    "    try:\n",
    "        google_news.start_date = dates[date]\n",
    "    except:\n",
    "        google_news.start_date = (dates[date][0], dates[date][1], dates[date][2] - 1)\n",
    "    try:\n",
    "        google_news.end_date = dates[date + 1]\n",
    "    except:\n",
    "        google_news.end_date = (dates[date + 1][0], dates[date + 1][1], dates[date + 1][2] - 1)\n",
    "    \n",
    "    news = google_news.get_news('Vinicius Jr')\n",
    "\n",
    "    l_news.extend([(new['description'], convert_dates(new['published date'])) for new in news])\n",
    "\n"
   ]
  },
  {
   "cell_type": "code",
   "execution_count": 129,
   "metadata": {},
   "outputs": [
    {
     "name": "stdout",
     "output_type": "stream",
     "text": [
      "700\n"
     ]
    },
    {
     "data": {
      "text/plain": [
       "[('No Kylian Mbappe? Real Madrid still have a star in attack in Vinicius Jr - The Athletic  The New York Times',\n",
       "  (3, 8, 2023)),\n",
       " ('Analysis: Can Vinicius Jr position change ease Kylian Mbappe into Real Madrid?  Football Espana',\n",
       "  (4, 8, 2023)),\n",
       " ('Brave move! Vinicius Jr asked for Cristiano Ronaldo’s old No.7 shirt at Real Madrid  Goal.com',\n",
       "  (4, 8, 2023))]"
      ]
     },
     "execution_count": 129,
     "metadata": {},
     "output_type": "execute_result"
    }
   ],
   "source": [
    "print(len(l_news))\n",
    "l_news[:3]"
   ]
  },
  {
   "cell_type": "markdown",
   "metadata": {},
   "source": [
    "# ESTA PARTE ES REFERENTE AL \"PROCESADO\""
   ]
  },
  {
   "cell_type": "code",
   "execution_count": 75,
   "metadata": {},
   "outputs": [
    {
     "name": "stderr",
     "output_type": "stream",
     "text": [
      "c:\\Users\\santi\\AppData\\Local\\Programs\\Python\\Python311\\Lib\\site-packages\\tqdm\\auto.py:21: TqdmWarning: IProgress not found. Please update jupyter and ipywidgets. See https://ipywidgets.readthedocs.io/en/stable/user_install.html\n",
      "  from .autonotebook import tqdm as notebook_tqdm\n",
      "c:\\Users\\santi\\AppData\\Local\\Programs\\Python\\Python311\\Lib\\site-packages\\transformers\\utils\\generic.py:311: UserWarning: torch.utils._pytree._register_pytree_node is deprecated. Please use torch.utils._pytree.register_pytree_node instead.\n",
      "  torch.utils._pytree._register_pytree_node(\n"
     ]
    }
   ],
   "source": [
    "from transformers import pipeline"
   ]
  },
  {
   "cell_type": "code",
   "execution_count": 76,
   "metadata": {},
   "outputs": [
    {
     "name": "stderr",
     "output_type": "stream",
     "text": [
      "No model was supplied, defaulted to distilbert-base-uncased-finetuned-sst-2-english and revision af0f99b (https://huggingface.co/distilbert-base-uncased-finetuned-sst-2-english).\n",
      "Using a pipeline without specifying a model name and revision in production is not recommended.\n",
      "Downloading config.json: 100%|██████████| 629/629 [00:00<?, ?B/s] \n",
      "c:\\Users\\santi\\AppData\\Local\\Programs\\Python\\Python311\\Lib\\site-packages\\huggingface_hub\\file_download.py:137: UserWarning: `huggingface_hub` cache-system uses symlinks by default to efficiently store duplicated files but your machine does not support them in C:\\Users\\santi\\.cache\\huggingface\\hub. Caching files will still work but in a degraded version that might require more space on your disk. This warning can be disabled by setting the `HF_HUB_DISABLE_SYMLINKS_WARNING` environment variable. For more details, see https://huggingface.co/docs/huggingface_hub/how-to-cache#limitations.\n",
      "To support symlinks on Windows, you either need to activate Developer Mode or to run Python as an administrator. In order to see activate developer mode, see this article: https://docs.microsoft.com/en-us/windows/apps/get-started/enable-your-device-for-development\n",
      "  warnings.warn(message)\n",
      "Downloading model.safetensors: 100%|██████████| 268M/268M [02:25<00:00, 1.84MB/s] \n",
      "Downloading tokenizer_config.json: 100%|██████████| 48.0/48.0 [00:00<00:00, 41.1kB/s]\n",
      "Downloading vocab.txt: 100%|██████████| 232k/232k [00:00<00:00, 1.06MB/s]\n"
     ]
    }
   ],
   "source": [
    "# Cargar pipeline de análisis de sentimiento\n",
    "sentiment_analysis = pipeline(\"sentiment-analysis\")"
   ]
  },
  {
   "cell_type": "code",
   "execution_count": 131,
   "metadata": {},
   "outputs": [],
   "source": [
    "list_to_df = []\n",
    "\n",
    "for desc, date in l_news:\n",
    "    list_to_df.append([desc, date, sentiment_analysis(desc)[0]['label']])\n",
    "\n",
    "df = pd.DataFrame(list_to_df, columns=['description', 'date', 'sentiment'])\n"
   ]
  },
  {
   "cell_type": "code",
   "execution_count": 132,
   "metadata": {},
   "outputs": [
    {
     "data": {
      "text/html": [
       "<div>\n",
       "<style scoped>\n",
       "    .dataframe tbody tr th:only-of-type {\n",
       "        vertical-align: middle;\n",
       "    }\n",
       "\n",
       "    .dataframe tbody tr th {\n",
       "        vertical-align: top;\n",
       "    }\n",
       "\n",
       "    .dataframe thead th {\n",
       "        text-align: right;\n",
       "    }\n",
       "</style>\n",
       "<table border=\"1\" class=\"dataframe\">\n",
       "  <thead>\n",
       "    <tr style=\"text-align: right;\">\n",
       "      <th></th>\n",
       "      <th>description</th>\n",
       "      <th>date</th>\n",
       "      <th>sentiment</th>\n",
       "    </tr>\n",
       "  </thead>\n",
       "  <tbody>\n",
       "    <tr>\n",
       "      <th>0</th>\n",
       "      <td>No Kylian Mbappe? Real Madrid still have a sta...</td>\n",
       "      <td>(3, 8, 2023)</td>\n",
       "      <td>NEGATIVE</td>\n",
       "    </tr>\n",
       "    <tr>\n",
       "      <th>1</th>\n",
       "      <td>Analysis: Can Vinicius Jr position change ease...</td>\n",
       "      <td>(4, 8, 2023)</td>\n",
       "      <td>NEGATIVE</td>\n",
       "    </tr>\n",
       "    <tr>\n",
       "      <th>2</th>\n",
       "      <td>Brave move! Vinicius Jr asked for Cristiano Ro...</td>\n",
       "      <td>(4, 8, 2023)</td>\n",
       "      <td>POSITIVE</td>\n",
       "    </tr>\n",
       "    <tr>\n",
       "      <th>3</th>\n",
       "      <td>Real Madrid defender Antonio Rüdiger opens up ...</td>\n",
       "      <td>(8, 8, 2023)</td>\n",
       "      <td>POSITIVE</td>\n",
       "    </tr>\n",
       "    <tr>\n",
       "      <th>4</th>\n",
       "      <td>Real Madrid vs Juventus score, result, highlig...</td>\n",
       "      <td>(2, 8, 2023)</td>\n",
       "      <td>POSITIVE</td>\n",
       "    </tr>\n",
       "    <tr>\n",
       "      <th>...</th>\n",
       "      <td>...</td>\n",
       "      <td>...</td>\n",
       "      <td>...</td>\n",
       "    </tr>\n",
       "    <tr>\n",
       "      <th>695</th>\n",
       "      <td>\"He's the best\" - Real Madrid defender chooses...</td>\n",
       "      <td>(16, 5, 2024)</td>\n",
       "      <td>POSITIVE</td>\n",
       "    </tr>\n",
       "    <tr>\n",
       "      <th>696</th>\n",
       "      <td>LaLiga: Vinicius Junior, Jude Bellingham steal...</td>\n",
       "      <td>(15, 5, 2024)</td>\n",
       "      <td>POSITIVE</td>\n",
       "    </tr>\n",
       "    <tr>\n",
       "      <th>697</th>\n",
       "      <td>La Liga: Vinicius double helps Real to 5-0 win...</td>\n",
       "      <td>(15, 5, 2024)</td>\n",
       "      <td>POSITIVE</td>\n",
       "    </tr>\n",
       "    <tr>\n",
       "      <th>698</th>\n",
       "      <td>FIFA urge all national federations to make rac...</td>\n",
       "      <td>(16, 5, 2024)</td>\n",
       "      <td>NEGATIVE</td>\n",
       "    </tr>\n",
       "    <tr>\n",
       "      <th>699</th>\n",
       "      <td>Who were the best South American players in Eu...</td>\n",
       "      <td>(21, 5, 2024)</td>\n",
       "      <td>POSITIVE</td>\n",
       "    </tr>\n",
       "  </tbody>\n",
       "</table>\n",
       "<p>700 rows × 3 columns</p>\n",
       "</div>"
      ],
      "text/plain": [
       "                                           description           date  \\\n",
       "0    No Kylian Mbappe? Real Madrid still have a sta...   (3, 8, 2023)   \n",
       "1    Analysis: Can Vinicius Jr position change ease...   (4, 8, 2023)   \n",
       "2    Brave move! Vinicius Jr asked for Cristiano Ro...   (4, 8, 2023)   \n",
       "3    Real Madrid defender Antonio Rüdiger opens up ...   (8, 8, 2023)   \n",
       "4    Real Madrid vs Juventus score, result, highlig...   (2, 8, 2023)   \n",
       "..                                                 ...            ...   \n",
       "695  \"He's the best\" - Real Madrid defender chooses...  (16, 5, 2024)   \n",
       "696  LaLiga: Vinicius Junior, Jude Bellingham steal...  (15, 5, 2024)   \n",
       "697  La Liga: Vinicius double helps Real to 5-0 win...  (15, 5, 2024)   \n",
       "698  FIFA urge all national federations to make rac...  (16, 5, 2024)   \n",
       "699  Who were the best South American players in Eu...  (21, 5, 2024)   \n",
       "\n",
       "    sentiment  \n",
       "0    NEGATIVE  \n",
       "1    NEGATIVE  \n",
       "2    POSITIVE  \n",
       "3    POSITIVE  \n",
       "4    POSITIVE  \n",
       "..        ...  \n",
       "695  POSITIVE  \n",
       "696  POSITIVE  \n",
       "697  POSITIVE  \n",
       "698  NEGATIVE  \n",
       "699  POSITIVE  \n",
       "\n",
       "[700 rows x 3 columns]"
      ]
     },
     "execution_count": 132,
     "metadata": {},
     "output_type": "execute_result"
    }
   ],
   "source": [
    "df"
   ]
  },
  {
   "cell_type": "code",
   "execution_count": 139,
   "metadata": {},
   "outputs": [
    {
     "data": {
      "text/plain": [
       "<Axes: xlabel='month'>"
      ]
     },
     "execution_count": 139,
     "metadata": {},
     "output_type": "execute_result"
    },
    {
     "data": {
      "image/png": "[encoded data removed]",
      "text/plain": [
       "<Figure size 640x480 with 1 Axes>"
      ]
     },
     "metadata": {},
     "output_type": "display_data"
    }
   ],
   "source": [
    "# see how many positive and negative news are there per month\n",
    "df['month'] = df['date'].apply(lambda x: x[1])\n",
    "\n",
    "\n",
    "# plot it\n",
    "df.groupby(['month', 'sentiment']).size().unstack().plot(kind='bar', stacked=False)\n"
   ]
  },
  {
   "cell_type": "code",
   "execution_count": 141,
   "metadata": {},
   "outputs": [],
   "source": [
    "# quitamos la columna meses\n",
    "df.drop(['month'], axis=1, inplace=True)\n",
    "\n",
    "# guardamos el df como csv en la carpeta raw\n",
    "\n",
    "df.to_csv('raw/vinicius_news.csv', index=False)"
   ]
  }
 ],
 "metadata": {
  "kernelspec": {
   "display_name": "Python 3",
   "language": "python",
   "name": "python3"
  },
  "language_info": {
   "codemirror_mode": {
    "name": "ipython",
    "version": 3
   },
   "file_extension": ".py",
   "mimetype": "text/x-python",
   "name": "python",
   "nbconvert_exporter": "python",
   "pygments_lexer": "ipython3",
   "version": "3.11.4"
  }
 },
 "nbformat": 4,
 "nbformat_minor": 2
}
